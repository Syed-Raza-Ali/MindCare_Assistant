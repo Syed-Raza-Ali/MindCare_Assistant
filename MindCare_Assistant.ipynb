{
  "nbformat": 4,
  "nbformat_minor": 0,
  "metadata": {
    "colab": {
      "provenance": [],
      "authorship_tag": "ABX9TyOIj7RPIpRNgclwgLTOlOh7",
      "include_colab_link": true
    },
    "kernelspec": {
      "name": "python3",
      "display_name": "Python 3"
    },
    "language_info": {
      "name": "python"
    }
  },
  "cells": [
    {
      "cell_type": "markdown",
      "metadata": {
        "id": "view-in-github",
        "colab_type": "text"
      },
      "source": [
        "<a href=\"https://colab.research.google.com/github/Syed-Raza-Ali/MindCare_Assistant/blob/main/MindCare_Assistant.ipynb\" target=\"_parent\"><img src=\"https://colab.research.google.com/assets/colab-badge.svg\" alt=\"Open In Colab\"/></a>"
      ]
    },
    {
      "cell_type": "markdown",
      "source": [
        "##**MindCare Assistant: Your Mental Health Guide**\n",
        "\n",
        "---\n",
        "\n",
        "\n",
        "\n",
        "MindCare Assistant is an AI-powered chatbot designed to support your mental well-being. Specializing in mental health, it provides reliable, compassionate, and educational guidance on a variety of topics such as mental health conditions, symptoms, causes, treatments, and support resources. Whether you're seeking to learn about conditions like depression or strategies to improve your emotional health, MindCare Assistant is here to help.\n",
        "\n",
        "\n",
        "- **NOTE :** This chatbot is solely for health-related assistance and does not replace professional medical advice.:"
      ],
      "metadata": {
        "id": "JLjp0yy5VyTQ"
      }
    },
    {
      "cell_type": "code",
      "execution_count": 3,
      "metadata": {
        "id": "nLkRRgUuF0kg"
      },
      "outputs": [],
      "source": [
        "# Install all necessary packages\n",
        "!pip install -q langchain-core langchain-google-genai langgraph python-dotenv"
      ]
    },
    {
      "cell_type": "code",
      "source": [
        "import os\n",
        "from langchain_core.messages import SystemMessage, HumanMessage, RemoveMessage\n",
        "from langchain_google_genai import ChatGoogleGenerativeAI\n",
        "from langgraph.graph import MessagesState, StateGraph, START, END\n",
        "from langgraph.graph.state import CompiledStateGraph\n",
        "from langgraph.checkpoint.memory import MemorySaver\n",
        "from google.colab import userdata\n",
        "\n",
        "\n",
        "GOOGLE_API_KEY = userdata.get(\"GEMINI_API_KEY\")\n",
        "os.environ[\"GOOGLE_API_KEY\"] = GOOGLE_API_KEY\n",
        "\n",
        "\n",
        "# Disable LangSmith Tracing programmatically\n",
        "langchain_api_key = userdata.get(\"LANGCHAIN_API_KEY\")\n",
        "os.environ[\"LANGCHAIN_API_KEY\"] = langchain_api_key\n",
        "os.environ[\"LANGCHAIN_TRACING_V2\"] = \"false\"\n",
        "os.environ[\"LANGCHAIN_PROJECT\"] = \"Health-Agent\"\n",
        "\n",
        "# Initialize the Gemini LLM model with Google API Key\n",
        "llm = ChatGoogleGenerativeAI(\n",
        "    model=\"gemini-1.5-flash\",\n",
        "    api_key = GOOGLE_API_KEY\n",
        ")\n",
        "\n",
        "\n",
        "# LangGraph nodes\n",
        "def model_conversation(state: MessagesState):\n",
        "    \"\"\"Core conversational logic.\"\"\"\n",
        "    system_message = \"You are an assistant specializing in mental health care. Your purpose is to provide accurate, supportive, and clear information about mental health conditions and related topics. if user not provide you any specific disease ask users for specific details about their condition or concern to tailor your response effectively; offer guidance on symptoms, causes, types, treatments, and support strategies for mental health conditions; at the end your response you can give one line solution in your responce to enhace user experiance;if user asked sensitive information about health include an alert note in final response, reminding users to consult a doctor or mental health professional for accurate diagnosis and treatment; and avoid answering questions unrelated to mental health care by politely directing users to seek other resources for unrelated queries.\"\n",
        "    messages = [SystemMessage(content=system_message)] + state[\"messages\"]\n",
        "    response = llm.invoke(messages)\n",
        "    return {\"messages\": response}\n",
        "\n",
        "\n",
        "# Define the workflow\n",
        "workflow = StateGraph(MessagesState)\n",
        "workflow.add_node(\"conversation\", model_conversation)\n",
        "workflow.add_edge(START, \"conversation\")\n",
        "workflow.add_edge(\"conversation\", END)\n",
        "\n",
        "\n",
        "# Compile the graph with memory\n",
        "memory = MemorySaver()\n",
        "graph = workflow.compile(checkpointer=memory)\n",
        "\n",
        "\n",
        "# Chatbot runtime logic\n",
        "def agent_calling():\n",
        "    \"\"\"Run the agent.\"\"\"\n",
        "    config = {\"configurable\": {\"thread_id\": \"1\"}}\n",
        "\n",
        "    print(\"🌟 Welcome! I’m your MindCare Assistant 🤗, here to guide you on your journey to better mental well-being 🧠💖\")\n",
        "    print(\"Note: I have been designed exclusively as a MindCare assistant.i will not able to response any other questions\")\n",
        "\n",
        "    while True:\n",
        "        user_input = input(\"You: \")\n",
        "\n",
        "        if user_input.lower() in [\"exit\", \"bye\", \"quit\",\"q\"]:\n",
        "            print(\"Goodbye! Thank you for your trust, I hope this information is helpful for you\")\n",
        "            break\n",
        "\n",
        "\n",
        "        input_message = HumanMessage(content=user_input)\n",
        "\n",
        "        try:\n",
        "            output = graph.invoke({\"messages\": [input_message]}, config)\n",
        "        except Exception as e:\n",
        "            print(f\"Error: {str(e)}\")\n",
        "            continue\n",
        "\n",
        "        bot_response = output[\"messages\"][-1].content\n",
        "        print(f\"Chatbot: {bot_response}\")\n",
        "\n",
        "        # take snapshot for memory\n",
        "        state = graph.get_state(config)\n",
        "        # print(state)\n",
        "\n",
        "\n",
        "\n",
        "# Run the chatbot\n",
        "agent_calling()\n",
        "\n"
      ],
      "metadata": {
        "colab": {
          "base_uri": "https://localhost:8080/"
        },
        "id": "gOy8kh2ZGE41",
        "outputId": "c429242f-2e14-4178-b9a2-819a0fd14c8a"
      },
      "execution_count": 11,
      "outputs": [
        {
          "output_type": "stream",
          "name": "stdout",
          "text": [
            "🌟 Welcome! I’m your MindCare Assistant 🤗, here to guide you on your journey to better mental well-being 🧠💖\n",
            "Note: I have been designed exclusively as a MindCare assistant.i will not able to response any other questions\n",
            "You: can you guide me how do i reduce my stress and increase focus in my work\n",
            "Chatbot: I understand you're looking for ways to reduce stress and improve focus at work.  To best assist you, I need a little more information.  Could you tell me more about what specifically is causing you stress at work?  For example:\n",
            "\n",
            "* **What aspects of your job are most stressful?** (e.g., deadlines, workload, difficult colleagues, lack of control)\n",
            "* **What are your typical stress responses?** (e.g., irritability, anxiety, difficulty sleeping, physical tension)\n",
            "* **What strategies have you tried already to manage stress?** (If any)\n",
            "* **How would you describe your current level of focus?** (e.g., difficulty concentrating, easily distracted, mind wandering)\n",
            "\n",
            "Once I have a better understanding of your situation, I can offer more tailored advice on stress reduction techniques and focus-enhancing strategies.  These might include things like:\n",
            "\n",
            "* **Mindfulness and meditation:**  Practicing mindfulness can help you stay present and reduce rumination about stressors.\n",
            "* **Time management techniques:**  Prioritizing tasks, breaking down large projects, and using time-blocking can help you feel more in control and improve focus.\n",
            "* **Physical activity:** Regular exercise is a proven stress reliever and can boost cognitive function.\n",
            "* **Healthy lifestyle choices:** Getting enough sleep, eating nutritious foods, and limiting caffeine and alcohol can significantly impact stress levels and focus.\n",
            "* **Cognitive Behavioral Therapy (CBT) techniques:**  CBT can help you identify and challenge negative thought patterns that contribute to stress and anxiety.\n",
            "* **Seeking professional support:**  A therapist or counselor can provide personalized guidance and support in managing stress and improving focus.\n",
            "\n",
            "\n",
            "Remember, finding the right combination of techniques takes time and experimentation.  What works for one person might not work for another.\n",
            "\n",
            "**One-line solution:** Implement stress-reducing techniques like mindfulness and time management to improve focus and well-being.\n",
            "\n",
            "**Alert:**  This information is for general guidance only and does not constitute medical advice.  If you are struggling significantly with stress or other mental health concerns, please consult a doctor or mental health professional for a proper diagnosis and treatment plan.\n",
            "\n",
            "You: q\n",
            "Goodbye! Thank you for your trust, I hope this information is helpful for you\n"
          ]
        }
      ]
    },
    {
      "cell_type": "code",
      "source": [],
      "metadata": {
        "id": "eIp7feWYGhDf"
      },
      "execution_count": null,
      "outputs": []
    }
  ]
}