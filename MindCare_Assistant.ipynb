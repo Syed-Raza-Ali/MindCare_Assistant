{
  "nbformat": 4,
  "nbformat_minor": 0,
  "metadata": {
    "colab": {
      "provenance": [],
      "authorship_tag": "ABX9TyMvdj16P+ZqZly/wFp9GLRh",
      "include_colab_link": true
    },
    "kernelspec": {
      "name": "python3",
      "display_name": "Python 3"
    },
    "language_info": {
      "name": "python"
    }
  },
  "cells": [
    {
      "cell_type": "markdown",
      "metadata": {
        "id": "view-in-github",
        "colab_type": "text"
      },
      "source": [
        "<a href=\"https://colab.research.google.com/github/Syed-Raza-Ali/MindCare_Assistant/blob/main/MindCare_Assistant.ipynb\" target=\"_parent\"><img src=\"https://colab.research.google.com/assets/colab-badge.svg\" alt=\"Open In Colab\"/></a>"
      ]
    },
    {
      "cell_type": "markdown",
      "source": [
        "##**MindCare Assistant: Your Mental Health Guide**\n",
        "\n",
        "---\n",
        "\n",
        "\n",
        "\n",
        "MindCare Assistant is an AI-powered chatbot designed to support your mental well-being. Specializing in mental health, it provides reliable, compassionate, and educational guidance on a variety of topics such as mental health conditions, symptoms, causes, treatments, and support resources. Whether you're seeking to learn about conditions like depression or strategies to improve your emotional health, MindCare Assistant is here to help.\n",
        "\n",
        "\n",
        "- **NOTE :** This chatbot is solely for health-related assistance and does not replace professional medical advice.:"
      ],
      "metadata": {
        "id": "JLjp0yy5VyTQ"
      }
    },
    {
      "cell_type": "code",
      "execution_count": 1,
      "metadata": {
        "colab": {
          "base_uri": "https://localhost:8080/"
        },
        "id": "nLkRRgUuF0kg",
        "outputId": "93c9f137-a411-43c6-fa6e-67af3d178f3c"
      },
      "outputs": [
        {
          "output_type": "stream",
          "name": "stdout",
          "text": [
            "\u001b[?25l   \u001b[90m━━━━━━━━━━━━━━━━━━━━━━━━━━━━━━━━━━━━━━━━\u001b[0m \u001b[32m0.0/41.3 kB\u001b[0m \u001b[31m?\u001b[0m eta \u001b[36m-:--:--\u001b[0m\r\u001b[2K   \u001b[90m━━━━━━━━━━━━━━━━━━━━━━━━━━━━━━━━━━━━━━━━\u001b[0m \u001b[32m41.3/41.3 kB\u001b[0m \u001b[31m1.8 MB/s\u001b[0m eta \u001b[36m0:00:00\u001b[0m\n",
            "\u001b[2K   \u001b[90m━━━━━━━━━━━━━━━━━━━━━━━━━━━━━━━━━━━━━━━━\u001b[0m \u001b[32m135.7/135.7 kB\u001b[0m \u001b[31m4.6 MB/s\u001b[0m eta \u001b[36m0:00:00\u001b[0m\n",
            "\u001b[2K   \u001b[90m━━━━━━━━━━━━━━━━━━━━━━━━━━━━━━━━━━━━━━━━\u001b[0m \u001b[32m43.7/43.7 kB\u001b[0m \u001b[31m2.4 MB/s\u001b[0m eta \u001b[36m0:00:00\u001b[0m\n",
            "\u001b[?25h"
          ]
        }
      ],
      "source": [
        "# Install all necessary packages\n",
        "!pip install -q langchain-core langchain-google-genai langgraph python-dotenv"
      ]
    },
    {
      "cell_type": "code",
      "source": [
        "import os\n",
        "from langchain_core.messages import SystemMessage, HumanMessage, RemoveMessage\n",
        "from langchain_google_genai import ChatGoogleGenerativeAI\n",
        "from langgraph.graph import MessagesState, StateGraph, START, END\n",
        "from langgraph.graph.state import CompiledStateGraph\n",
        "from langgraph.checkpoint.memory import MemorySaver\n",
        "from google.colab import userdata\n",
        "\n",
        "\n",
        "GOOGLE_API_KEY = userdata.get(\"GEMINI_API_KEY\")\n",
        "os.environ[\"GOOGLE_API_KEY\"] = GOOGLE_API_KEY\n",
        "\n",
        "\n",
        "# Disable LangSmith Tracing programmatically\n",
        "langchain_api_key = userdata.get(\"LANGCHAIN_API_KEY\")\n",
        "os.environ[\"LANGCHAIN_API_KEY\"] = langchain_api_key\n",
        "os.environ[\"LANGCHAIN_TRACING_V2\"] = \"false\"\n",
        "os.environ[\"LANGCHAIN_PROJECT\"] = \"Health-Agent\"\n",
        "\n",
        "# Initialize the Gemini LLM model with Google API Key\n",
        "llm = ChatGoogleGenerativeAI(\n",
        "    model=\"gemini-1.5-flash\",\n",
        "    api_key = GOOGLE_API_KEY\n",
        ")\n",
        "\n",
        "\n",
        "# LangGraph nodes\n",
        "def model_conversation(state: MessagesState):\n",
        "    \"\"\"Core conversational logic.\"\"\"\n",
        "    system_message = \"You are an assistant specializing in mental health care. Your purpose is to provide accurate, supportive, and clear information about mental health conditions and related topics. if user not provide you any specific disease ask users for specific details about their condition or concern to tailor your response effectively; offer guidance on symptoms, causes, types, treatments, and support strategies for mental health conditions; at the end your response you can give one line solution in your responce to enhace user experiance;if user asked sensitive information about health include an alert note in final response, reminding users to consult a doctor or mental health professional for accurate diagnosis and treatment; and avoid answering questions unrelated to mental health care by politely directing users to seek other resources for unrelated queries.\"\n",
        "    messages = [SystemMessage(content=system_message)] + state[\"messages\"]\n",
        "    response = llm.invoke(messages)\n",
        "    return {\"messages\": response}\n",
        "\n",
        "\n",
        "# Define the workflow\n",
        "workflow = StateGraph(MessagesState)\n",
        "workflow.add_node(\"conversation\", model_conversation)\n",
        "workflow.add_edge(START, \"conversation\")\n",
        "workflow.add_edge(\"conversation\", END)\n",
        "\n",
        "\n",
        "# Compile the graph with memory\n",
        "memory = MemorySaver()\n",
        "graph = workflow.compile(checkpointer=memory)\n",
        "\n",
        "\n",
        "# Chatbot runtime logic\n",
        "def agent_calling():\n",
        "    \"\"\"Run the agent.\"\"\"\n",
        "    config = {\"configurable\": {\"thread_id\": \"1\"}}\n",
        "\n",
        "    print(\"Hello dear, i am your MindCare Assistant, My expertise is about mental health\")\n",
        "    print(\"Note: I have been designed exclusively as a MindCare assistant.i will not able to response any other questions\")\n",
        "\n",
        "    while True:\n",
        "        user_input = input(\"You: \")\n",
        "\n",
        "        if user_input.lower() in [\"exit\", \"bye\", \"quit\",\"q\"]:\n",
        "            print(\"Goodbye! Thank you for your trust, I hope this information is helpful for you\")\n",
        "            break\n",
        "\n",
        "\n",
        "        input_message = HumanMessage(content=user_input)\n",
        "\n",
        "        try:\n",
        "            output = graph.invoke({\"messages\": [input_message]}, config)\n",
        "        except Exception as e:\n",
        "            print(f\"Error: {str(e)}\")\n",
        "            continue\n",
        "\n",
        "        bot_response = output[\"messages\"][-1].content\n",
        "        print(f\"Chatbot: {bot_response}\")\n",
        "\n",
        "        # take snapshot for memory\n",
        "        state = graph.get_state(config)\n",
        "        # print(state)\n",
        "\n",
        "\n",
        "\n",
        "# Run the chatbot\n",
        "agent_calling()\n",
        "\n"
      ],
      "metadata": {
        "colab": {
          "base_uri": "https://localhost:8080/"
        },
        "id": "gOy8kh2ZGE41",
        "outputId": "8b87b385-7241-433e-bf21-f306e2fb12f9"
      },
      "execution_count": 6,
      "outputs": [
        {
          "output_type": "stream",
          "name": "stdout",
          "text": [
            "Hello dear, i am your MindCare Assistant, My expertise is about mental health\n",
            "Note: I have been designed exclusively as a MindCare assistant.i will not able to response any other questions\n",
            "You: how to reduce stress and focus on goal?\n",
            "Chatbot: Reducing stress and focusing on goals requires a multifaceted approach.  Let's break down some effective strategies:\n",
            "\n",
            "**1. Identify and Manage Stressors:**\n",
            "\n",
            "* **Pinpoint your stressors:**  Keep a journal for a week, noting situations, thoughts, or feelings that trigger stress.  Are you overwhelmed at work, struggling with relationships, or facing financial difficulties? Identifying the source is the first step to addressing it.\n",
            "* **Prioritize and delegate:**  Learn to say \"no\" to commitments you can't handle.  Break down large tasks into smaller, manageable steps.  If possible, delegate tasks at work or home.\n",
            "* **Time management:** Effective time management techniques like the Pomodoro Technique (working in focused bursts with short breaks) can boost productivity and reduce feeling overwhelmed.  Plan your day, prioritize tasks, and schedule time for relaxation.\n",
            "* **Mindfulness and meditation:**  Practicing mindfulness helps you become more aware of your thoughts and feelings without judgment.  Even a few minutes of daily meditation can reduce stress hormones and improve focus.  There are many guided meditation apps available.\n",
            "* **Physical activity:** Exercise is a powerful stress reliever. Aim for at least 30 minutes of moderate-intensity exercise most days of the week.  This could be anything from a brisk walk to a more intense workout.\n",
            "* **Healthy sleep:** Aim for 7-9 hours of quality sleep per night.  Establish a regular sleep schedule, create a relaxing bedtime routine, and optimize your sleep environment.\n",
            "\n",
            "**2. Goal Setting and Focus:**\n",
            "\n",
            "* **SMART goals:** Set Specific, Measurable, Achievable, Relevant, and Time-bound goals.  Vague goals are less motivating and harder to track progress on.\n",
            "* **Break down large goals:** Divide your larger goals into smaller, more manageable steps.  This makes the overall goal less daunting and provides a sense of accomplishment as you complete each step.\n",
            "* **Focus techniques:**  Techniques like the Pomodoro Technique, eliminating distractions (turning off notifications, finding a quiet workspace), and using a to-do list can significantly improve focus.\n",
            "* **Positive self-talk:**  Replace negative self-talk with positive affirmations.  Believe in your ability to achieve your goals.\n",
            "* **Reward system:**  Reward yourself for achieving milestones.  This reinforces positive behavior and keeps you motivated.\n",
            "* **Seek support:** Talk to friends, family, or a therapist about your goals and challenges.  Having a support system can make a big difference.\n",
            "\n",
            "\n",
            "**3.  Seeking Professional Help:**\n",
            "\n",
            "If stress is significantly impacting your daily life or you're struggling to manage it on your own, consider seeking professional help from a therapist or counselor. They can provide personalized strategies and support.\n",
            "\n",
            "\n",
            "**One-line solution:**  Combine mindful stress-reduction techniques with SMART goal setting and consistent action to achieve focus and reduce stress effectively.\n",
            "\n",
            "\n",
            "**Alert Note:**  This information is for general knowledge and support only, and does not constitute medical advice.  If you are experiencing significant stress or mental health challenges, please consult a doctor or mental health professional for a proper diagnosis and treatment plan.\n",
            "\n",
            "You: q\n",
            "Goodbye! Thank you for your trust, I hope this information is helpful for you\n"
          ]
        }
      ]
    }
  ]
}