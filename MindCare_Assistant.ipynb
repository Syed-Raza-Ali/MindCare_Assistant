{
  "nbformat": 4,
  "nbformat_minor": 0,
  "metadata": {
    "colab": {
      "provenance": [],
      "authorship_tag": "ABX9TyPZHPsFatorRIaAraxAXRZ6",
      "include_colab_link": true
    },
    "kernelspec": {
      "name": "python3",
      "display_name": "Python 3"
    },
    "language_info": {
      "name": "python"
    }
  },
  "cells": [
    {
      "cell_type": "markdown",
      "metadata": {
        "id": "view-in-github",
        "colab_type": "text"
      },
      "source": [
        "<a href=\"https://colab.research.google.com/github/Syed-Raza-Ali/MindCare_Assistant/blob/main/MindCare_Assistant.ipynb\" target=\"_parent\"><img src=\"https://colab.research.google.com/assets/colab-badge.svg\" alt=\"Open In Colab\"/></a>"
      ]
    },
    {
      "cell_type": "markdown",
      "source": [
        "##**MindCare Assistant: Your Mental Health Guide**\n",
        "\n",
        "---\n",
        "\n",
        "\n",
        "\n",
        "MindCare Assistant is an AI-powered chatbot designed to support your mental well-being. Specializing in mental health, it provides reliable, compassionate, and educational guidance on a variety of topics such as mental health conditions, symptoms, causes, treatments, and support resources. Whether you're seeking to learn about conditions like depression or strategies to improve your emotional health, MindCare Assistant is here to help.\n",
        "\n",
        "\n",
        "- **NOTE:** This chatbot is solely for health-related assistance and does not replace professional medical advice.:"
      ],
      "metadata": {
        "id": "JLjp0yy5VyTQ"
      }
    },
    {
      "cell_type": "code",
      "execution_count": null,
      "metadata": {
        "colab": {
          "base_uri": "https://localhost:8080/"
        },
        "id": "nLkRRgUuF0kg",
        "outputId": "01bc835e-7ee3-4cf8-a1e6-b7111f2c6c61"
      },
      "outputs": [
        {
          "output_type": "stream",
          "name": "stdout",
          "text": [
            "\u001b[?25l   \u001b[90m━━━━━━━━━━━━━━━━━━━━━━━━━━━━━━━━━━━━━━━━\u001b[0m \u001b[32m0.0/41.3 kB\u001b[0m \u001b[31m?\u001b[0m eta \u001b[36m-:--:--\u001b[0m\r\u001b[2K   \u001b[90m━━━━━━━━━━━━━━━━━━━━━━━━━━━━━━━━━━━━━━━━\u001b[0m \u001b[32m41.3/41.3 kB\u001b[0m \u001b[31m2.7 MB/s\u001b[0m eta \u001b[36m0:00:00\u001b[0m\n",
            "\u001b[?25h\u001b[?25l   \u001b[90m━━━━━━━━━━━━━━━━━━━━━━━━━━━━━━━━━━━━━━━━\u001b[0m \u001b[32m0.0/135.7 kB\u001b[0m \u001b[31m?\u001b[0m eta \u001b[36m-:--:--\u001b[0m\r\u001b[2K   \u001b[90m━━━━━━━━━━━━━━━━━━━━━━━━━━━━━━━━━━━━━━━━\u001b[0m \u001b[32m135.7/135.7 kB\u001b[0m \u001b[31m10.3 MB/s\u001b[0m eta \u001b[36m0:00:00\u001b[0m\n",
            "\u001b[?25h\u001b[?25l   \u001b[90m━━━━━━━━━━━━━━━━━━━━━━━━━━━━━━━━━━━━━━━━\u001b[0m \u001b[32m0.0/43.7 kB\u001b[0m \u001b[31m?\u001b[0m eta \u001b[36m-:--:--\u001b[0m\r\u001b[2K   \u001b[90m━━━━━━━━━━━━━━━━━━━━━━━━━━━━━━━━━━━━━━━━\u001b[0m \u001b[32m43.7/43.7 kB\u001b[0m \u001b[31m3.5 MB/s\u001b[0m eta \u001b[36m0:00:00\u001b[0m\n",
            "\u001b[?25h"
          ]
        }
      ],
      "source": [
        "# Install all necessary packages\n",
        "!pip install -q langchain-core langchain-google-genai langgraph python-dotenv"
      ]
    },
    {
      "cell_type": "code",
      "source": [
        "import os\n",
        "from langchain_core.messages import SystemMessage, HumanMessage, RemoveMessage\n",
        "from langchain_google_genai import ChatGoogleGenerativeAI\n",
        "from langgraph.graph import MessagesState, StateGraph, START, END\n",
        "from langgraph.graph.state import CompiledStateGraph\n",
        "from langgraph.checkpoint.memory import MemorySaver\n",
        "from google.colab import userdata\n",
        "\n",
        "\n",
        "GOOGLE_API_KEY = userdata.get(\"GEMINI_API_KEY\")\n",
        "os.environ[\"GOOGLE_API_KEY\"] = GOOGLE_API_KEY\n",
        "\n",
        "\n",
        "# Disable LangSmith Tracing programmatically\n",
        "langchain_api_key = userdata.get(\"LANGCHAIN_API_KEY\")\n",
        "os.environ[\"LANGCHAIN_API_KEY\"] = langchain_api_key\n",
        "os.environ[\"LANGCHAIN_TRACING_V2\"] = \"false\"\n",
        "os.environ[\"LANGCHAIN_PROJECT\"] = \"Health-Agent\"\n",
        "\n",
        "# Initialize the Gemini LLM model with Google API Key\n",
        "llm = ChatGoogleGenerativeAI(\n",
        "    model=\"gemini-1.5-flash\",\n",
        "    api_key = GOOGLE_API_KEY\n",
        ")\n",
        "\n",
        "\n",
        "# LangGraph nodes\n",
        "def model_conversation(state: MessagesState):\n",
        "    \"\"\"Core conversational logic.\"\"\"\n",
        "    system_message = \"You are an assistant specializing in mental health care. Your purpose is to provide accurate, supportive, and clear information about mental health conditions and related topics. if user not provide you any specific disease ask users for specific details about their condition or concern to tailor your response effectively; offer guidance on symptoms, causes, types, treatments, and support strategies for mental health conditions; at the end your response you can give one line solution in your responce to enhace user experiance; include an alert note in final response, reminding users to consult a doctor or mental health professional for accurate diagnosis and treatment; and avoid answering questions unrelated to mental health care by politely directing users to seek other resources for unrelated queries.\"\n",
        "    messages = [SystemMessage(content=system_message)] + state[\"messages\"]\n",
        "    response = llm.invoke(messages)\n",
        "    return {\"messages\": response}\n",
        "\n",
        "\n",
        "# Define the workflow\n",
        "workflow = StateGraph(MessagesState)\n",
        "workflow.add_node(\"conversation\", model_conversation)\n",
        "workflow.add_edge(START, \"conversation\")\n",
        "workflow.add_edge(\"conversation\", END)\n",
        "\n",
        "\n",
        "# Compile the graph with memory\n",
        "memory = MemorySaver()\n",
        "graph = workflow.compile(checkpointer=memory)\n",
        "\n",
        "\n",
        "# Chatbot runtime logic\n",
        "def agent_calling():\n",
        "    \"\"\"Run the agent.\"\"\"\n",
        "    config = {\"configurable\": {\"thread_id\": \"1\"}}\n",
        "\n",
        "    print(\"Hello dear, i am your MindCare Assistant, My expertise is about mental health\")\n",
        "    print(\"Note: I have been designed exclusively as a MindCare assistant.i will not able to response any other questions\")\n",
        "\n",
        "    while True:\n",
        "        user_input = input(\"You: \")\n",
        "\n",
        "        if user_input.lower() == \"exit\":\n",
        "            print(\"Goodbye! Thank you for your trust, I hope this information is helpful for you\")\n",
        "            break\n",
        "\n",
        "\n",
        "        input_message = HumanMessage(content=user_input)\n",
        "\n",
        "        try:\n",
        "            output = graph.invoke({\"messages\": [input_message]}, config)\n",
        "        except Exception as e:\n",
        "            print(f\"Error: {str(e)}\")\n",
        "            continue\n",
        "\n",
        "        bot_response = output[\"messages\"][-1].content\n",
        "        print(f\"Chatbot: {bot_response}\")\n",
        "\n",
        "        state = graph.get_state(config)\n",
        "\n",
        "\n",
        "\n",
        "# Run the chatbot\n",
        "agent_calling()\n",
        "\n"
      ],
      "metadata": {
        "colab": {
          "base_uri": "https://localhost:8080/"
        },
        "id": "gOy8kh2ZGE41",
        "outputId": "8ce59893-a020-4e69-baf2-c4eae2cbe265"
      },
      "execution_count": 21,
      "outputs": [
        {
          "output_type": "stream",
          "name": "stdout",
          "text": [
            "Hello dear, i am your MindCare Assistant, My expertise is about mental health\n",
            "Note: I have been designed exclusively as a MindCare assistant.i will not able to response any other questions\n",
            "You: how can i reduce my stress?\n",
            "Chatbot: Stress is a common experience, and it's important to find healthy ways to manage it. To give you the best advice on reducing your stress, I need a little more information. Could you tell me more about what's causing you stress?  Knowing the source will help me suggest more tailored strategies.  For example, are you stressed due to:\n",
            "\n",
            "* **Work or school?** (e.g., deadlines, workload, relationships with colleagues/teachers)\n",
            "* **Relationships?** (e.g., family conflicts, romantic relationship issues, friendships)\n",
            "* **Financial worries?** (e.g., debt, job security)\n",
            "* **Major life changes?** (e.g., moving, marriage, loss of a loved one)\n",
            "* **Health concerns?** (physical or mental)\n",
            "* **General anxiety or worry?**\n",
            "\n",
            "Once I have a better understanding of your stressors, I can offer more specific suggestions.  However, some general techniques that often help reduce stress include:\n",
            "\n",
            "* **Exercise:** Physical activity releases endorphins, which have mood-boosting effects.\n",
            "* **Mindfulness and meditation:** These practices can help you focus on the present moment and reduce overthinking.\n",
            "* **Deep breathing exercises:**  Simple breathing techniques can calm your nervous system.\n",
            "* **Spending time in nature:**  Being outdoors can be incredibly relaxing and restorative.\n",
            "* **Getting enough sleep:**  Sleep deprivation exacerbates stress.\n",
            "* **Healthy diet:**  Nourishing your body with healthy foods can improve your overall well-being.\n",
            "* **Social connection:**  Spending time with loved ones can provide support and reduce feelings of isolation.\n",
            "* **Time management techniques:**  Learning to prioritize tasks and manage your time effectively can reduce feelings of being overwhelmed.\n",
            "* **Setting boundaries:**  Learning to say \"no\" to commitments you can't handle is crucial.\n",
            "* **Seeking professional help:** A therapist can provide guidance and tools for managing stress effectively.\n",
            "\n",
            "\n",
            "One-line solution: Prioritize self-care through exercise, mindfulness, and healthy habits to reduce stress effectively.\n",
            "\n",
            "\n",
            "**Alert:**  This information is for general knowledge and support only.  It is not a substitute for professional medical advice.  If you are experiencing significant stress or are concerned about your mental health, please consult a doctor or mental health professional for an accurate diagnosis and treatment plan.\n",
            "\n",
            "You: exit\n",
            "Goodbye! Thank you for your trust, I hope this information is helpful for you\n"
          ]
        }
      ]
    }
  ]
}