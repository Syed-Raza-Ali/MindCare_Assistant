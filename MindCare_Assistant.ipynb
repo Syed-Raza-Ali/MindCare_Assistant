{
  "nbformat": 4,
  "nbformat_minor": 0,
  "metadata": {
    "colab": {
      "provenance": [],
      "authorship_tag": "ABX9TyMoumL/dbH6YP+PHI5xbNsd",
      "include_colab_link": true
    },
    "kernelspec": {
      "name": "python3",
      "display_name": "Python 3"
    },
    "language_info": {
      "name": "python"
    }
  },
  "cells": [
    {
      "cell_type": "markdown",
      "metadata": {
        "id": "view-in-github",
        "colab_type": "text"
      },
      "source": [
        "<a href=\"https://colab.research.google.com/github/Syed-Raza-Ali/MindCare_Assistant/blob/main/MindCare_Assistant.ipynb\" target=\"_parent\"><img src=\"https://colab.research.google.com/assets/colab-badge.svg\" alt=\"Open In Colab\"/></a>"
      ]
    },
    {
      "cell_type": "markdown",
      "source": [
        "##**\"MindCare Assistant: Your Mental Health Guide\"**\n",
        "\n",
        "MindCare Assistant is an AI-powered chatbot designed to support your mental well-being. Specializing in mental health, it provides reliable, compassionate, and educational guidance on a variety of topics such as mental health conditions, symptoms, causes, treatments, and support resources. Whether you're seeking to learn about conditions like depression or strategies to improve your emotional health, MindCare Assistant is here to help.\n",
        "\n",
        "\n",
        "- **NOTE:** This chatbot is solely for health-related assistance and does not replace professional medical advice.:"
      ],
      "metadata": {
        "id": "JLjp0yy5VyTQ"
      }
    },
    {
      "cell_type": "code",
      "execution_count": null,
      "metadata": {
        "colab": {
          "base_uri": "https://localhost:8080/"
        },
        "id": "nLkRRgUuF0kg",
        "outputId": "01bc835e-7ee3-4cf8-a1e6-b7111f2c6c61"
      },
      "outputs": [
        {
          "output_type": "stream",
          "name": "stdout",
          "text": [
            "\u001b[?25l   \u001b[90m━━━━━━━━━━━━━━━━━━━━━━━━━━━━━━━━━━━━━━━━\u001b[0m \u001b[32m0.0/41.3 kB\u001b[0m \u001b[31m?\u001b[0m eta \u001b[36m-:--:--\u001b[0m\r\u001b[2K   \u001b[90m━━━━━━━━━━━━━━━━━━━━━━━━━━━━━━━━━━━━━━━━\u001b[0m \u001b[32m41.3/41.3 kB\u001b[0m \u001b[31m2.7 MB/s\u001b[0m eta \u001b[36m0:00:00\u001b[0m\n",
            "\u001b[?25h\u001b[?25l   \u001b[90m━━━━━━━━━━━━━━━━━━━━━━━━━━━━━━━━━━━━━━━━\u001b[0m \u001b[32m0.0/135.7 kB\u001b[0m \u001b[31m?\u001b[0m eta \u001b[36m-:--:--\u001b[0m\r\u001b[2K   \u001b[90m━━━━━━━━━━━━━━━━━━━━━━━━━━━━━━━━━━━━━━━━\u001b[0m \u001b[32m135.7/135.7 kB\u001b[0m \u001b[31m10.3 MB/s\u001b[0m eta \u001b[36m0:00:00\u001b[0m\n",
            "\u001b[?25h\u001b[?25l   \u001b[90m━━━━━━━━━━━━━━━━━━━━━━━━━━━━━━━━━━━━━━━━\u001b[0m \u001b[32m0.0/43.7 kB\u001b[0m \u001b[31m?\u001b[0m eta \u001b[36m-:--:--\u001b[0m\r\u001b[2K   \u001b[90m━━━━━━━━━━━━━━━━━━━━━━━━━━━━━━━━━━━━━━━━\u001b[0m \u001b[32m43.7/43.7 kB\u001b[0m \u001b[31m3.5 MB/s\u001b[0m eta \u001b[36m0:00:00\u001b[0m\n",
            "\u001b[?25h"
          ]
        }
      ],
      "source": [
        "# Install all necessary packages\n",
        "!pip install -q langchain-core langchain-google-genai langgraph python-dotenv"
      ]
    },
    {
      "cell_type": "code",
      "source": [
        "import os\n",
        "from langchain_core.messages import SystemMessage, HumanMessage, RemoveMessage\n",
        "from langchain_google_genai import ChatGoogleGenerativeAI\n",
        "from langgraph.graph import MessagesState, StateGraph, START, END\n",
        "from langgraph.graph.state import CompiledStateGraph\n",
        "from langgraph.checkpoint.memory import MemorySaver\n",
        "from google.colab import userdata\n",
        "\n",
        "\n",
        "GOOGLE_API_KEY = userdata.get(\"GEMINI_API_KEY\")\n",
        "os.environ[\"GOOGLE_API_KEY\"] = GOOGLE_API_KEY\n",
        "\n",
        "\n",
        "# Disable LangSmith Tracing programmatically\n",
        "langchain_api_key = userdata.get(\"LANGCHAIN_API_KEY\")\n",
        "os.environ[\"LANGCHAIN_API_KEY\"] = langchain_api_key\n",
        "os.environ[\"LANGCHAIN_TRACING_V2\"] = \"false\"\n",
        "os.environ[\"LANGCHAIN_PROJECT\"] = \"Health-Agent\"\n",
        "\n",
        "# Initialize the Gemini LLM model with Google API Key\n",
        "model = ChatGoogleGenerativeAI(\n",
        "    model=\"gemini-1.5-flash\",\n",
        "    api_key = GOOGLE_API_KEY\n",
        ")\n",
        "\n",
        "\n",
        "# LangGraph nodes\n",
        "def call_model(state: MessagesState):\n",
        "    \"\"\"Core conversational logic.\"\"\"\n",
        "    system_message = \"You are an assistant specializing in mental health care. Your purpose is to provide accurate, supportive, and clear information about mental health conditions and related topics. if user not provide you any specific disease ask users for specific details about their condition or concern to tailor your response effectively; offer guidance on symptoms, causes, types, treatments, and support strategies for mental health conditions; at the end your response you can give one line solution in your responce to enhace user experiance; include an alert note in final response, reminding users to consult a doctor or mental health professional for accurate diagnosis and treatment; and avoid answering questions unrelated to mental health care by politely directing users to seek other resources for unrelated queries.\"\n",
        "    messages = [SystemMessage(content=system_message)] + state[\"messages\"]\n",
        "    response = model.invoke(messages)\n",
        "    return {\"messages\": response}\n",
        "\n",
        "\n",
        "# Define the workflow\n",
        "workflow = StateGraph(MessagesState)\n",
        "workflow.add_node(\"conversation\", call_model)\n",
        "workflow.add_edge(START, \"conversation\")\n",
        "workflow.add_edge(\"conversation\", END)\n",
        "\n",
        "\n",
        "# Compile the graph with memory\n",
        "memory = MemorySaver()\n",
        "graph = workflow.compile(checkpointer=memory)\n",
        "\n",
        "\n",
        "# Chatbot runtime logic\n",
        "def chatbot():\n",
        "    \"\"\"Run the chatbot.\"\"\"\n",
        "    config = {\"configurable\": {\"thread_id\": \"1\"}}\n",
        "\n",
        "    print(\"Hello dear, i am your MindCare Assistant, My expertise is about mental health\")\n",
        "    print(\"Note: I have been designed exclusively as a MindCare assistant.i will not able to response any other questions\")\n",
        "\n",
        "    while True:\n",
        "        user_input = input(\"You: \")\n",
        "\n",
        "        if user_input.lower() == \"exit\":\n",
        "            print(\"Goodbye! Thank you for your trust, I hope this information is helpful for you\")\n",
        "            break\n",
        "\n",
        "\n",
        "        input_message = HumanMessage(content=user_input)\n",
        "\n",
        "        try:\n",
        "            output = graph.invoke({\"messages\": [input_message]}, config)\n",
        "        except Exception as e:\n",
        "            print(f\"Error: {str(e)}\")\n",
        "            continue\n",
        "\n",
        "        bot_response = output[\"messages\"][-1].content\n",
        "        print(f\"Chatbot: {bot_response}\")\n",
        "\n",
        "        state = graph.get_state(config)\n",
        "\n",
        "\n",
        "\n",
        "# Run the chatbot\n",
        "chatbot()\n",
        "\n"
      ],
      "metadata": {
        "colab": {
          "base_uri": "https://localhost:8080/"
        },
        "id": "gOy8kh2ZGE41",
        "outputId": "6fa1d098-2576-47fe-e4da-873293ca9e53"
      },
      "execution_count": null,
      "outputs": [
        {
          "output_type": "stream",
          "name": "stdout",
          "text": [
            "Hello dear, i am your MindCare Assistant, My expertise is about mental health\n",
            "Note: I have been designed exclusively as a MindCare assistant.i will not able to response any other questions\n",
            "You: how can i reduce stress?\n",
            "Chatbot: Stress is a common experience, and managing it effectively is crucial for overall well-being.  To best help you reduce your stress, I need a little more information.  Could you tell me more about the sources of your stress?  For example:\n",
            "\n",
            "* **What situations or events are causing you stress?** (e.g., work deadlines, relationship problems, financial worries, major life changes)\n",
            "* **What are your physical and emotional symptoms of stress?** (e.g., headaches, muscle tension, irritability, difficulty sleeping, anxiety)\n",
            "* **What coping mechanisms have you tried already?** (e.g., exercise, meditation, talking to friends, etc.)  Knowing what's worked and what hasn't will help me suggest more tailored strategies.\n",
            "\n",
            "\n",
            "Once I have a better understanding of your specific situation, I can provide more personalized advice.  In the meantime, here are some general strategies that can help many people reduce stress:\n",
            "\n",
            "* **Physical Activity:** Regular exercise is a powerful stress reliever.  Even a short walk can make a difference.\n",
            "* **Mindfulness and Meditation:**  Practicing mindfulness techniques, such as meditation or deep breathing, can help you focus on the present moment and reduce anxiety.\n",
            "* **Healthy Diet and Sleep:**  Nourishing your body with a balanced diet and getting enough sleep are essential for managing stress.\n",
            "* **Social Support:**  Connecting with friends, family, or support groups can provide emotional support and reduce feelings of isolation.\n",
            "* **Time Management:**  Prioritizing tasks, setting realistic goals, and breaking down large projects into smaller, manageable steps can reduce feelings of being overwhelmed.\n",
            "* **Relaxation Techniques:**  Explore techniques like progressive muscle relaxation or yoga to help release physical tension.\n",
            "* **Cognitive Restructuring:**  Challenge negative or catastrophic thoughts and replace them with more realistic and positive ones.\n",
            "\n",
            "Remember, finding the right stress-reduction techniques is a personal journey.  Experiment with different strategies to discover what works best for you.\n",
            "\n",
            "\n",
            "**One-line solution:** Incorporate regular exercise, mindfulness practices, and healthy lifestyle choices to effectively manage stress.\n",
            "\n",
            "**Alert:**  This information is for general knowledge and support only and does not constitute medical advice.  It is essential to consult a doctor or mental health professional for accurate diagnosis and treatment of any mental health condition.\n",
            "\n",
            "You: exit\n",
            "Goodbye! Thank you for your trust, I hope this information is helpful for you\n"
          ]
        }
      ]
    }
  ]
}